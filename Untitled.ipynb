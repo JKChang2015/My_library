{
 "cells": [
  {
   "cell_type": "code",
   "execution_count": 1,
   "metadata": {},
   "outputs": [],
   "source": [
    "from bs4 import BeautifulSoup\n",
    "import requests\n",
    "\n",
    "from urllib.request import urlopen"
   ]
  },
  {
   "cell_type": "code",
   "execution_count": 4,
   "metadata": {},
   "outputs": [],
   "source": [
    "news_url = 'http://www.google.com/news/rss'\n",
    "Client = urlopen(news_url)\n",
    "xml_page = Client.read()\n",
    "Client.close()"
   ]
  },
  {
   "cell_type": "code",
   "execution_count": 5,
   "metadata": {},
   "outputs": [
    {
     "data": {
      "text/plain": [
       "200"
      ]
     },
     "execution_count": 5,
     "metadata": {},
     "output_type": "execute_result"
    }
   ],
   "source": [
    "from bs4 import BeautifulSoup\n",
    "import requests\n",
    "\n",
    "r = requests.get('http://www.google.co.uk/news/rss')\n",
    "r.status_code"
   ]
  },
  {
   "cell_type": "code",
   "execution_count": 6,
   "metadata": {},
   "outputs": [],
   "source": [
    "content = r.text\n",
    "soup = BeautifulSoup(content, 'html.parser')"
   ]
  },
  {
   "cell_type": "code",
   "execution_count": 7,
   "metadata": {},
   "outputs": [],
   "source": [
    "news = soup.find_all('item')"
   ]
  },
  {
   "cell_type": "code",
   "execution_count": null,
   "metadata": {},
   "outputs": [],
   "source": [
    "len(news)"
   ]
  },
  {
   "cell_type": "code",
   "execution_count": null,
   "metadata": {},
   "outputs": [],
   "source": [
    "for new in news:\n",
    "    print(new.title.text)\n",
    "    print(new.description.text)\n",
    "    print('-' * 60)"
   ]
  },
  {
   "cell_type": "code",
   "execution_count": 9,
   "metadata": {},
   "outputs": [
    {
     "data": {
      "text/plain": [
       "'Pregnant Meghan Markle shows off her growing baby bump as she appears with Prince Harry in Birkenhead for - The Sun'"
      ]
     },
     "execution_count": 9,
     "metadata": {},
     "output_type": "execute_result"
    }
   ],
   "source": [
    "news[0].title.text"
   ]
  },
  {
   "cell_type": "code",
   "execution_count": 45,
   "metadata": {},
   "outputs": [
    {
     "data": {
      "text/plain": [
       "[]"
      ]
     },
     "execution_count": 45,
     "metadata": {},
     "output_type": "execute_result"
    }
   ],
   "source": [
    "news[0].description.find_all('li')"
   ]
  },
  {
   "cell_type": "code",
   "execution_count": 46,
   "metadata": {},
   "outputs": [
    {
     "data": {
      "text/plain": [
       "0"
      ]
     },
     "execution_count": 46,
     "metadata": {},
     "output_type": "execute_result"
    }
   ],
   "source": [
    "len(news[0].description.find_all('li'))"
   ]
  },
  {
   "cell_type": "code",
   "execution_count": 44,
   "metadata": {},
   "outputs": [
    {
     "data": {
      "text/plain": [
       "[]"
      ]
     },
     "execution_count": 44,
     "metadata": {},
     "output_type": "execute_result"
    }
   ],
   "source": []
  },
  {
   "cell_type": "code",
   "execution_count": 48,
   "metadata": {},
   "outputs": [
    {
     "name": "stdout",
     "output_type": "stream",
     "text": [
      "b'<title>Pregnant Meghan Markle shows off her growing baby bump as she appears with Prince Harry in Birkenhead for - The Sun</title>'\n",
      "b'<link/>'\n",
      "b'https://www.thesun.co.uk/news/8189157/meghan-markle-prince-harry-birkenhead-visit-merseyside/'\n",
      "b'<guid ispermalink=\"false\">52780171540335</guid>'\n",
      "b'<pubdate>Mon, 14 Jan 2019 11:20:00 GMT</pubdate>'\n",
      "b'<description>&lt;ol&gt;&lt;li&gt;&lt;a href=\"https://www.thesun.co.uk/news/8189157/meghan-markle-prince-harry-birkenhead-visit-merseyside/\" target=\"_blank\"&gt;Pregnant Meghan Markle shows off her growing baby bump as she appears with Prince Harry in Birkenhead for&lt;/a&gt;&amp;nbsp;&amp;nbsp;&lt;font color=\"#6f6f6f\"&gt;The Sun&lt;/font&gt;&lt;/li&gt;&lt;li&gt;&lt;a href=\"https://www.express.co.uk/news/royal/1071348/meghan-markle-duchess-sussex-news-bodyguard-resign-six-month\" target=\"_blank\"&gt;Meghan Markle hit by ANOTHER RESIGNATION - Duchess could lose third aide in six months&lt;/a&gt;&amp;nbsp;&amp;nbsp;&lt;font color=\"#6f6f6f\"&gt;Express&lt;/font&gt;&lt;/li&gt;&lt;li&gt;&lt;a href=\"https://www.dailymail.co.uk/femail/article-6588881/Prince-Harry-Meghan-Markle-arrive-Birkenhead.html\" target=\"_blank\"&gt;Meghan Markle and Prince Harry arrive in Birkenhead&lt;/a&gt;&amp;nbsp;&amp;nbsp;&lt;font color=\"#6f6f6f\"&gt;Daily Mail&lt;/font&gt;&lt;/li&gt;&lt;li&gt;&lt;a href=\"https://www.thesun.co.uk/news/8187209/meghan-markle-thomas-markle-drink-drive-row/\" target=\"_blank\"&gt;Meghan Markle\\xe2\\x80\\x99s brother\\xe2\\x80\\x99s drink driving arrest came after \\xe2\\x80\\x98row with fiancee over a pub fruit machine\\xe2\\x80\\x99&lt;/a&gt;&amp;nbsp;&amp;nbsp;&lt;font color=\"#6f6f6f\"&gt;The Sun&lt;/font&gt;&lt;/li&gt;&lt;li&gt;&lt;a href=\"https://www.express.co.uk/news/royal/1071487/Meghan-Markle-news-Suits-cameo-Royal-Family-Queen-charity-patronage-latest\" target=\"_blank\"&gt;Meghan Markle to RETURN to Suits for special cameo \\xe2\\x80\\x93 but warned of battle with Queen&lt;/a&gt;&amp;nbsp;&amp;nbsp;&lt;font color=\"#6f6f6f\"&gt;Express&lt;/font&gt;&lt;/li&gt;&lt;li&gt;&lt;strong&gt;&lt;a href=\"https://news.google.com/stories/CAAqZQgKIl9DQklTUVRvSmMzUnZjbmt0TXpZd1NqUUtFUWp2N29DN2pZQU1FVHdKNGtackRwM1NFaDlOWldkb1lXNGdUV0Z5YTJ4bEozTWdZbTlrZVdkMVlYSmtJSEYxYVhSektBQVAB?oc=5\" target=\"_blank\"&gt;View full coverage on Google News&lt;/a&gt;&lt;/strong&gt;&lt;/li&gt;&lt;/ol&gt;</description>'\n",
      "b'<source url=\"https://www.thesun.co.uk\"/>'\n",
      "b'The Sun'\n"
     ]
    }
   ],
   "source": [
    "for x in news[0]:\n",
    "    print(x.encode('utf-8'))"
   ]
  },
  {
   "cell_type": "code",
   "execution_count": 26,
   "metadata": {},
   "outputs": [
    {
     "data": {
      "text/plain": [
       "'<ol><li><a href=\"https://www.thesun.co.uk/news/8189157/meghan-markle-prince-harry-birkenhead-visit-merseyside/\" target=\"_blank\">Pregnant Meghan Markle shows off her growing baby bump as she appears with Prince Harry in Birkenhead for</a>&nbsp;&nbsp;<font color=\"#6f6f6f\">The Sun</font></li><li><a href=\"https://www.express.co.uk/news/royal/1071348/meghan-markle-duchess-sussex-news-bodyguard-resign-six-month\" target=\"_blank\">Meghan Markle hit by ANOTHER RESIGNATION - Duchess could lose third aide in six months</a>&nbsp;&nbsp;<font color=\"#6f6f6f\">Express</font></li><li><a href=\"https://www.dailymail.co.uk/femail/article-6588881/Prince-Harry-Meghan-Markle-arrive-Birkenhead.html\" target=\"_blank\">Meghan Markle and Prince Harry arrive in Birkenhead</a>&nbsp;&nbsp;<font color=\"#6f6f6f\">Daily Mail</font></li><li><a href=\"https://www.thesun.co.uk/news/8187209/meghan-markle-thomas-markle-drink-drive-row/\" target=\"_blank\">Meghan Markle’s brother’s drink driving arrest came after ‘row with fiancee over a pub fruit machine’</a>&nbsp;&nbsp;<font color=\"#6f6f6f\">The Sun</font></li><li><a href=\"https://www.express.co.uk/news/royal/1071487/Meghan-Markle-news-Suits-cameo-Royal-Family-Queen-charity-patronage-latest\" target=\"_blank\">Meghan Markle to RETURN to Suits for special cameo – but warned of battle with Queen</a>&nbsp;&nbsp;<font color=\"#6f6f6f\">Express</font></li><li><strong><a href=\"https://news.google.com/stories/CAAqZQgKIl9DQklTUVRvSmMzUnZjbmt0TXpZd1NqUUtFUWp2N29DN2pZQU1FVHdKNGtackRwM1NFaDlOWldkb1lXNGdUV0Z5YTJ4bEozTWdZbTlrZVdkMVlYSmtJSEYxYVhSektBQVAB?oc=5\" target=\"_blank\">View full coverage on Google News</a></strong></li></ol>'"
      ]
     },
     "execution_count": 26,
     "metadata": {},
     "output_type": "execute_result"
    }
   ],
   "source": []
  },
  {
   "cell_type": "code",
   "execution_count": null,
   "metadata": {},
   "outputs": [],
   "source": []
  }
 ],
 "metadata": {
  "kernelspec": {
   "display_name": "Python 3",
   "language": "python",
   "name": "python3"
  },
  "language_info": {
   "codemirror_mode": {
    "name": "ipython",
    "version": 3
   },
   "file_extension": ".py",
   "mimetype": "text/x-python",
   "name": "python",
   "nbconvert_exporter": "python",
   "pygments_lexer": "ipython3",
   "version": "3.6.5"
  }
 },
 "nbformat": 4,
 "nbformat_minor": 2
}
